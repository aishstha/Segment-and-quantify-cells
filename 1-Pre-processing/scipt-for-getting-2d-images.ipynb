{
 "cells": [
  {
   "cell_type": "code",
   "execution_count": 28,
   "id": "b839689b-41de-48ff-b653-b4690b14b79c",
   "metadata": {},
   "outputs": [],
   "source": [
    "# This script helps to eunstack 3D images to 2D and save all the images separately in .tif format.\n",
    "# The threshold is set above 2000 to get features of interest representing a cell. \n",
    "# You can run this code in the juputer notebook"
   ]
  },
  {
   "cell_type": "code",
   "execution_count": 6,
   "id": "b51d2dee",
   "metadata": {},
   "outputs": [
    {
     "name": "stdout",
     "output_type": "stream",
     "text": [
      "Requirement already satisfied: tifffile in /Users/aishwaryashrestha/anaconda3/lib/python3.10/site-packages (2023.4.12)\r\n",
      "Requirement already satisfied: numpy in /Users/aishwaryashrestha/anaconda3/lib/python3.10/site-packages (from tifffile) (1.24.3)\r\n"
     ]
    }
   ],
   "source": [
    "# Tifffile library is used to support .tif image format\n",
    "!pip install tifffile"
   ]
  },
  {
   "cell_type": "code",
   "execution_count": 10,
   "id": "21d721bb-8d12-4170-8bb6-750ee0dbb50c",
   "metadata": {},
   "outputs": [],
   "source": [
    "import tifffile\n",
    "import numpy as np\n",
    "from PIL import Image\n",
    "import matplotlib.pyplot as plt\n",
    "import os"
   ]
  },
  {
   "cell_type": "code",
   "execution_count": 14,
   "id": "f33e42a1-0561-49fb-8463-db7bf4b191e8",
   "metadata": {},
   "outputs": [
    {
     "name": "stdout",
     "output_type": "stream",
     "text": [
      "File name: ./working-data-folder/new-data-july30/20140617_LOT20140603_Stiffnessl_Day8_1.0A_MCF10A-31.lsm\n"
     ]
    }
   ],
   "source": [
    "# Load the .lsm image as a NumPy array\n",
    "# You can give folder name based on your laptop local drive\n",
    "image_dr = \"./working-data-folder/new-data-july30/\"\n",
    "file_name = \"20140617_LOT20140603_Stiffnessl_Day8_1.0A_MCF10A-31.lsm\"\n",
    "input_image = image_dr + file_name\n",
    "image_3d = tifffile.imread(input_image)\n",
    "\n",
    "print(\"File name:\", input_image)\n"
   ]
  },
  {
   "cell_type": "code",
   "execution_count": 15,
   "id": "50546689-6444-4087-901e-3a40ebc98666",
   "metadata": {},
   "outputs": [
    {
     "name": "stdout",
     "output_type": "stream",
     "text": [
      "Shape of the NumPy array: (110, 421, 424)\n"
     ]
    }
   ],
   "source": [
    "# Check the shape and data type of the NumPy array.\n",
    "# Shape of the NumPy array: (62, 252, 326) represents : a stack of 68 images where each image has dimensions of 252 pixels in height and 326 pixels in width.\n",
    "print(\"Shape of the NumPy array:\", image_3d.shape)"
   ]
  },
  {
   "cell_type": "code",
   "execution_count": 16,
   "id": "c616b90e-f2a6-4b24-96c3-1d02fba3f90b",
   "metadata": {},
   "outputs": [
    {
     "name": "stdout",
     "output_type": "stream",
     "text": [
      "./sliced-2D-images/20140617_LOT20140603_Stiffnessl_Day8_1.0A_MCF10A-31\n"
     ]
    }
   ],
   "source": [
    "# Create a two new folder in the current working directory.\n",
    "\n",
    "# one for storing sliced 2D images and another for storing corresponding masks.\n",
    "\n",
    "file_name_without_ext = '.'.join(file_name.split('.')[:-1])\n",
    "folder_path = \"./sliced-2D-images/\" + file_name_without_ext\n",
    "mask_folder_path = \"./sliced-2D-images/\" + file_name_without_ext + \"-MASK\"\n",
    "if not os.path.exists(folder_path):\n",
    "    os.makedirs(folder_path)\n",
    "if not os.path.exists(mask_folder_path):\n",
    "    os.makedirs(mask_folder_path)\n",
    "print(folder_path)"
   ]
  },
  {
   "cell_type": "code",
   "execution_count": 17,
   "id": "b56a488b",
   "metadata": {},
   "outputs": [
    {
     "data": {
      "text/plain": [
       "'./sliced-2D-images/20140617_LOT20140603_Stiffnessl_Day8_1.0A_MCF10A-31'"
      ]
     },
     "execution_count": 17,
     "metadata": {},
     "output_type": "execute_result"
    }
   ],
   "source": [
    "folder_path"
   ]
  },
  {
   "cell_type": "code",
   "execution_count": 40,
   "id": "7941d3dd-71ac-4c41-8ede-5524470996d6",
   "metadata": {},
   "outputs": [
    {
     "name": "stdout",
     "output_type": "stream",
     "text": [
      "higher intensity 16 2093\n",
      "higher intensity 17 2673\n",
      "higher intensity 18 2964\n",
      "higher intensity 19 2943\n",
      "higher intensity 20 3038\n",
      "higher intensity 21 3080\n",
      "higher intensity 22 2717\n",
      "higher intensity 23 2551\n",
      "higher intensity 24 3195\n",
      "higher intensity 25 3003\n",
      "higher intensity 26 2787\n",
      "higher intensity 27 3290\n",
      "higher intensity 28 3448\n",
      "higher intensity 29 3936\n",
      "higher intensity 30 3881\n",
      "higher intensity 31 4092\n",
      "higher intensity 32 3943\n",
      "higher intensity 33 3765\n",
      "higher intensity 34 3731\n",
      "higher intensity 35 3858\n",
      "higher intensity 36 4089\n",
      "higher intensity 37 4021\n",
      "higher intensity 38 4045\n",
      "higher intensity 39 3810\n",
      "higher intensity 40 3846\n",
      "higher intensity 41 3920\n",
      "higher intensity 42 3735\n",
      "higher intensity 43 3830\n",
      "higher intensity 44 3908\n",
      "higher intensity 45 3996\n",
      "higher intensity 46 3984\n",
      "higher intensity 47 4095\n",
      "higher intensity 48 4095\n",
      "higher intensity 49 4095\n",
      "higher intensity 50 4095\n",
      "higher intensity 51 4095\n",
      "higher intensity 52 4095\n",
      "higher intensity 53 4095\n",
      "higher intensity 54 4095\n",
      "higher intensity 55 4095\n",
      "higher intensity 56 4073\n",
      "higher intensity 57 4095\n",
      "higher intensity 58 4095\n",
      "higher intensity 59 4095\n",
      "higher intensity 60 4095\n",
      "higher intensity 61 4095\n",
      "higher intensity 62 4095\n",
      "higher intensity 63 4095\n",
      "higher intensity 64 4095\n",
      "higher intensity 65 4095\n",
      "higher intensity 66 4095\n",
      "higher intensity 67 4095\n",
      "higher intensity 68 4095\n",
      "higher intensity 69 4095\n",
      "higher intensity 70 4095\n",
      "higher intensity 71 4073\n",
      "higher intensity 72 4095\n",
      "higher intensity 73 4095\n",
      "higher intensity 74 4095\n",
      "higher intensity 75 4095\n",
      "higher intensity 76 4095\n",
      "higher intensity 77 4095\n",
      "higher intensity 78 4095\n",
      "higher intensity 79 4095\n",
      "higher intensity 80 4095\n",
      "higher intensity 81 4095\n",
      "higher intensity 82 4095\n",
      "higher intensity 83 4095\n",
      "higher intensity 84 4095\n",
      "higher intensity 85 3999\n",
      "higher intensity 86 3569\n",
      "cnt 71\n"
     ]
    }
   ],
   "source": [
    "# Loop over each slice in the 3D image and save it as a separate 2D image\n",
    "\n",
    "cnt = 0\n",
    "for i in range(image_3d.shape[0]):\n",
    "    # extract the i-th slice from the 3D image\n",
    "    image_2d = image_3d[i, :, :]\n",
    "    threshold = 2000\n",
    "    \n",
    "    if np.max(image_2d) > threshold :\n",
    "        print(\"higher intensity\", i, np.max(image_2d))\n",
    "        cnt = cnt + 1\n",
    "        # convert the 2D NumPy array to a Pillow image\n",
    "        image_pil = Image.fromarray(image_2d)\n",
    "                    \n",
    "        # save the image as a .tif file with a unique name\n",
    "        filename = folder_path + \"/slice{}.tif\".format(i)\n",
    "        image_pil.save(filename)\n",
    "print(\"cnt\", cnt)"
   ]
  },
  {
   "cell_type": "code",
   "execution_count": 41,
   "id": "1ebac342",
   "metadata": {},
   "outputs": [],
   "source": [
    "# Now open all the images in FIJI for manual removal of noisy image (if needed only)"
   ]
  },
  {
   "cell_type": "code",
   "execution_count": 42,
   "id": "4c12c322-510d-4a87-b1fd-e83b6561d17f",
   "metadata": {},
   "outputs": [
    {
     "name": "stdout",
     "output_type": "stream",
     "text": [
      "./sliced-2D-images/20140617_LOT20140603_Stiffnessl_Day8_1.0A_MCF10A-31\n"
     ]
    }
   ],
   "source": [
    "# Rename files in a directory by adding a numeric suffix to their names.\n",
    "\n",
    "start_num = 1\n",
    "dir_path = folder_path   # Replace with the actual directory path\n",
    "print(dir_path)\n",
    "\n",
    "extension = \".tif\"\n",
    "\n",
    "file_list = os.listdir(dir_path)\n",
    "tif_list = [filename for filename in file_list if filename.endswith(extension)]\n",
    "\n",
    "for i, filename in enumerate(tif_list):\n",
    "    old_name = os.path.join(dir_path, filename)\n",
    "    new_name = os.path.join(dir_path, f\"2d_slice{start_num+i}{extension}\")\n",
    "    os.rename(old_name, new_name)\n",
    "\n",
    "# With this step you would get 2D slices    "
   ]
  },
  {
   "cell_type": "code",
   "execution_count": 43,
   "id": "b9329ab4-2dc7-430b-9edb-f57708a11f68",
   "metadata": {},
   "outputs": [
    {
     "name": "stdout",
     "output_type": "stream",
     "text": [
      "./sliced-2D-images/20140617_LOT20140603_Stiffnessl_Day8_1.0A_MCF10A-31-MASK\n"
     ]
    }
   ],
   "source": [
    "start_num = 1\n",
    "dir_path = mask_folder_path  \n",
    "print(dir_path)\n",
    "\n",
    "extension = \".tif\"\n",
    "\n",
    "file_list = os.listdir(dir_path)\n",
    "tif_list = [filename for filename in file_list if filename.endswith(extension)]\n",
    "\n",
    "for i, filename in enumerate(tif_list):\n",
    "    old_name = os.path.join(dir_path, filename)\n",
    "    new_name = os.path.join(dir_path, f\"slice{start_num+i}{extension}\")\n",
    "    os.rename(old_name, new_name)\n"
   ]
  },
  {
   "cell_type": "code",
   "execution_count": 45,
   "id": "9d517810-bdd9-4c83-a4f3-64f7dcc25d95",
   "metadata": {},
   "outputs": [
    {
     "name": "stdout",
     "output_type": "stream",
     "text": [
      "./sliced-2D-images/20140617_LOT20140603_Stiffnessl_Day8_1.0A_MCF10A-31\n"
     ]
    }
   ],
   "source": [
    "# Once you complete above step, now you need to give numbering based on your dataset. For example I have my last image name as img547, then I would give new image name as img548\n",
    "\n",
    "start_num = 548\n",
    "dir_path = folder_path  \n",
    "print(dir_path)\n",
    "\n",
    "extension = \".tif\"\n",
    "\n",
    "file_list = os.listdir(dir_path)\n",
    "tif_list = [filename for filename in file_list if filename.endswith(extension)]\n",
    "\n",
    "for i, filename in enumerate(tif_list):\n",
    "    old_name = os.path.join(dir_path, filename)\n",
    "    new_name = os.path.join(dir_path, f\"img{start_num+i}{extension}\")\n",
    "    os.rename(old_name, new_name)\n",
    "\n",
    "# Threfore, now you have 584 - 618 (71) images "
   ]
  }
 ],
 "metadata": {
  "kernelspec": {
   "display_name": "Python 3 (ipykernel)",
   "language": "python",
   "name": "python3"
  },
  "language_info": {
   "codemirror_mode": {
    "name": "ipython",
    "version": 3
   },
   "file_extension": ".py",
   "mimetype": "text/x-python",
   "name": "python",
   "nbconvert_exporter": "python",
   "pygments_lexer": "ipython3",
   "version": "3.9.12"
  }
 },
 "nbformat": 4,
 "nbformat_minor": 5
}
