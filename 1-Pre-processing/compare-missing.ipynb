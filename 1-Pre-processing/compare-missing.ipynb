{
 "cells": [
  {
   "cell_type": "code",
   "execution_count": 1,
   "id": "21d721bb-8d12-4170-8bb6-750ee0dbb50c",
   "metadata": {},
   "outputs": [],
   "source": [
    "# Run this script to test the corresponding image-name in 'image' and 'mask' folder\n",
    "\n",
    "import numpy as np\n",
    "from PIL import Image\n",
    "import matplotlib.pyplot as plt\n",
    "import os"
   ]
  },
  {
   "cell_type": "code",
   "execution_count": 6,
   "id": "81d723ef",
   "metadata": {},
   "outputs": [],
   "source": [
    "folder1 = \"./20140617_LOT20140603_Stiffnessl_Day8_1.0A_MCF10A-8\"\n",
    "folder2 = \"./20140617_LOT20140603_Stiffnessl_Day8_1.0A_MCF10A-8-MASK\""
   ]
  },
  {
   "cell_type": "code",
   "execution_count": 10,
   "id": "9b8f6b43-7415-405a-b817-48df8eb6e36b",
   "metadata": {},
   "outputs": [],
   "source": [
    "def compare_folders(folder1, folder2):\n",
    "    files1 = set([filename.split('.')[0] for filename in os.listdir(folder1) if filename.endswith('.tif')])\n",
    "    files2 = set([filename.split('.')[0] for filename in os.listdir(folder2) if filename.endswith('.tif')])\n",
    "\n",
    "    unique_files1 = files1 - files2\n",
    "    unique_files2 = files2 - files1\n",
    "\n",
    "    if unique_files1:\n",
    "        print(f\"Images that exist in {folder1} but not in {folder2}:\")\n",
    "        for file in unique_files1:\n",
    "            print(file)\n",
    "\n",
    "    elif unique_files2:\n",
    "        print(f\"Images that exist in {folder2} but not in {folder1}:\")\n",
    "        for file in unique_files2:\n",
    "            print(file)\n",
    "    else: \n",
    "        print(\"Both the folders have corresponding images\")"
   ]
  },
  {
   "cell_type": "code",
   "execution_count": 11,
   "id": "9d517810-bdd9-4c83-a4f3-64f7dcc25d95",
   "metadata": {},
   "outputs": [
    {
     "name": "stdout",
     "output_type": "stream",
     "text": [
      "Both the folders have corresponding images\n"
     ]
    }
   ],
   "source": [
    "compare_folders(folder1, folder2)"
   ]
  },
  {
   "cell_type": "code",
   "execution_count": null,
   "id": "f4610eab",
   "metadata": {},
   "outputs": [],
   "source": [
    "# If corresponding mask image doesnot exist then, it would should result like this :\n",
    "\n",
    "# Images that exist in ./20140617_LOT20140603_Stiffnessl_Day8_1.0A_MCF10A-31 but not in ./20140617_LOT20140603_Stiffnessl_Day8_1.0A_MCF10A-31-MASK:\n",
    "# img579\n",
    "# img590\n",
    "# img600\n",
    "# img583\n",
    "# img582\n",
    "# img591\n",
    "# img595\n",
    "# img612\n",
    "# img594\n",
    "# img608\n",
    "# img581\n",
    "# img584\n",
    "# img599"
   ]
  }
 ],
 "metadata": {
  "kernelspec": {
   "display_name": "Python 3 (ipykernel)",
   "language": "python",
   "name": "python3"
  },
  "language_info": {
   "codemirror_mode": {
    "name": "ipython",
    "version": 3
   },
   "file_extension": ".py",
   "mimetype": "text/x-python",
   "name": "python",
   "nbconvert_exporter": "python",
   "pygments_lexer": "ipython3",
   "version": "3.9.12"
  }
 },
 "nbformat": 4,
 "nbformat_minor": 5
}
